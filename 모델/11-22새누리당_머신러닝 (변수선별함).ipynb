{
 "cells": [
  {
   "cell_type": "code",
   "execution_count": 1,
   "metadata": {},
   "outputs": [],
   "source": [
    "#라이브러리 호출\n",
    "import numpy as np\n",
    "import pandas as pd\n",
    "\n",
    "from sklearn.ensemble import RandomForestRegressor\n",
    "from sklearn.metrics import mean_squared_error\n",
    "\n",
    "from sklearn.datasets import make_regression\n",
    "from sklearn.model_selection import train_test_split"
   ]
  },
  {
   "cell_type": "code",
   "execution_count": 2,
   "metadata": {},
   "outputs": [],
   "source": [
    "#원본 데이터 (깃허브에 저장된 데이터 파일 호출)\n",
    "df1 = pd.read_csv('https://github.com/lhmlhm1111/Data_GongHak/raw/master/11-22totaldata.txt',encoding='utf-8',sep=',')\n"
   ]
  },
  {
   "cell_type": "code",
   "execution_count": null,
   "metadata": {},
   "outputs": [],
   "source": [
    "# 회의 때 변수 선별 3가지 방법 univariate, importance , heat map상관관계도 로 선별한 6가지\n",
    "소득 , 인구밀도 , 사업체수 , 장애등급별 장애인현황 ,독거노인수 , 노령화지수\n",
    "로 Train , Test 머신러닝 한 과정입니다#"
   ]
  },
  {
   "cell_type": "code",
   "execution_count": 3,
   "metadata": {},
   "outputs": [],
   "source": [
    "#학습/테스트 데이터\n",
    "x = df1.drop(['year','읍면동명','자치구','새누리당','더불어민주당','국민의당','선거인수','유년부양비','노년부양비','종사자수','사업체 창업률','기초수급자인원수','보육시설','금융기관','사업체 평균연령','인구','면적'],axis=1)\n",
    "y = df1['새누리당']\n",
    "\n",
    "x_train, x_test , y_train , y_test = train_test_split(x,y,test_size=0.2,random_state=0)"
   ]
  },
  {
   "cell_type": "code",
   "execution_count": 5,
   "metadata": {},
   "outputs": [
    {
     "name": "stdout",
     "output_type": "stream",
     "text": [
      "[3638.5 4222.5 6734.7 3572.9 5782.  2714.9 5794.8 3464.6 1414.4 4279.4\n",
      " 4693.1 2793.2 3660.3 6571.3 7143.3 6171.9 5545.3 2528.6 4430.6 3403.8\n",
      " 5092.1 3455.3 3776.8 2923.8 6423.5 4456.7 6251.6 2699.9 3891.3 2750.7\n",
      " 2431.8 4332.5 1936.7 2897.9 6632.3 5331.5 4878.3 5396.3 4560.2 3312.7\n",
      " 1649.7 3593.  5293.2 4836.  6250.  5840.3 4875.8 4637.9 3750.1 7537.2\n",
      " 6109.2 5514.  3293.4 2787.3 1088.8 7178.6 4638.  4254.9 4168.3 5035.6\n",
      " 6843.7 3308.6 3309.9  936.7 8726.2 1615.2 5964.6 3119.3 6116.2 2752.4\n",
      " 1573.9 3748.2 6072.1 5026.1 5817.4 3606.7 3672.6 2339.9 3767.5 7963.7\n",
      " 4193.7 3182.6 4126.1 8310.4 5424.6 4835.5 6253.3 4808.3 5164.2 3360.1\n",
      " 6618.8 2145.7 3581.8 2154.7 5488.3 2966.8 5079.6 8529.7 3253.8 2230.\n",
      " 5160.6 3490.8 3519.4 3663.3 2266.2 3186.2 3572.4 5230.2 2922.3 5655.6\n",
      " 4199.5 6994.2 3616.8 8666.8 4476.2 4477.5 4755.2 4196.4 3441.7 3372.9\n",
      " 2846.9 6001.3 6033.2 2001.3 5247.3 4683.2 3116.6 4848.7 4619.6 3478.4\n",
      " 3785.8 5398.8 5635.6 6295.8 3899.6 3338.  5688.1 3440.7 2425.3 6369.6\n",
      " 6000.  3876.  5715.6 3138.8 1644.9 3728.3 3026.3 3702.2 4077.5 1931.6\n",
      " 1649.9 9359.  6643.4 5334.6 2562.3 3989.4 3393.4 3851.3 4100.6 5480.1\n",
      " 6474.4 3417.3 3200.  7614.1 4501.6 4517.9 4410.1 6476.9 4368.  3159.1]\n"
     ]
    },
    {
     "name": "stderr",
     "output_type": "stream",
     "text": [
      "C:\\Users\\Hosik\\Anaconda3\\lib\\site-packages\\sklearn\\ensemble\\forest.py:246: FutureWarning: The default value of n_estimators will change from 10 in version 0.20 to 100 in 0.22.\n",
      "  \"10 in version 0.20 to 100 in 0.22.\", FutureWarning)\n"
     ]
    }
   ],
   "source": [
    "## 랜덤포레스트 회귀 모델\n",
    "\n",
    "rf1 = RandomForestRegressor()\n",
    "\n",
    "rf1.fit(x_train, y_train)\n",
    "\n",
    "predicted = rf1.predict(x_test)\n",
    "\n",
    "print(predicted)"
   ]
  },
  {
   "cell_type": "code",
   "execution_count": 6,
   "metadata": {},
   "outputs": [
    {
     "data": {
      "text/plain": [
       "1643.404397198748"
      ]
     },
     "execution_count": 6,
     "metadata": {},
     "output_type": "execute_result"
    }
   ],
   "source": [
    "#적합값의 편차\n",
    "predicted.std()"
   ]
  },
  {
   "cell_type": "code",
   "execution_count": 7,
   "metadata": {},
   "outputs": [
    {
     "data": {
      "text/plain": [
       "2046.6270808941272"
      ]
     },
     "execution_count": 7,
     "metadata": {},
     "output_type": "execute_result"
    }
   ],
   "source": [
    "#원래 데이터값의 편차\n",
    "y_test.std()"
   ]
  },
  {
   "cell_type": "code",
   "execution_count": 8,
   "metadata": {},
   "outputs": [
    {
     "data": {
      "text/plain": [
       "1419.8510537045365"
      ]
     },
     "execution_count": 8,
     "metadata": {},
     "output_type": "execute_result"
    }
   ],
   "source": [
    "#적합값과 원래 데이터값 사이 편차\n",
    "np.sqrt(mean_squared_error(y_test,predicted))"
   ]
  },
  {
   "cell_type": "code",
   "execution_count": 24,
   "metadata": {},
   "outputs": [
    {
     "data": {
      "text/plain": [
       "669    4216.0\n",
       "222    2632.0\n",
       "613    9746.0\n",
       "700    4396.0\n",
       "592    5672.0\n",
       "808    1186.0\n",
       "31     4211.0\n",
       "145    3000.0\n",
       "511    4525.0\n",
       "416    4110.0\n",
       "271    6188.0\n",
       "638    2163.0\n",
       "266    3502.0\n",
       "351    7264.0\n",
       "318    8150.0\n",
       "605    7535.0\n",
       "649    7066.0\n",
       "8      3792.0\n",
       "708    4461.0\n",
       "150    5900.0\n",
       "750    3963.0\n",
       "101    3401.0\n",
       "103    5955.0\n",
       "765    2972.0\n",
       "748    7553.0\n",
       "728    8691.0\n",
       "661    8696.0\n",
       "773    2462.0\n",
       "55     2478.0\n",
       "401    2166.0\n",
       "        ...  \n",
       "491    4914.0\n",
       "156    5183.0\n",
       "471    6283.0\n",
       "382    2836.0\n",
       "374    1218.0\n",
       "478    4910.0\n",
       "45     4063.0\n",
       "202    3406.0\n",
       "843    3577.0\n",
       "367    1590.0\n",
       "39     4057.0\n",
       "18     5411.0\n",
       "496    5899.0\n",
       "344    4777.0\n",
       "782    3497.0\n",
       "50     4700.0\n",
       "812    1572.0\n",
       "311    4426.0\n",
       "643    4485.0\n",
       "122    4914.0\n",
       "553    5422.0\n",
       "331    2369.0\n",
       "319    3098.0\n",
       "10     6362.0\n",
       "462    4598.0\n",
       "68     5580.0\n",
       "746    5309.0\n",
       "279    6699.0\n",
       "673    3512.0\n",
       "642    3841.0\n",
       "Name: 새누리당, Length: 170, dtype: float64"
      ]
     },
     "execution_count": 24,
     "metadata": {},
     "output_type": "execute_result"
    }
   ],
   "source": [
    "#원래 데이터의 새누리당 값 (test로 쓰인것)\n",
    "y_test"
   ]
  }
 ],
 "metadata": {
  "kernelspec": {
   "display_name": "Python 3",
   "language": "python",
   "name": "python3"
  },
  "language_info": {
   "codemirror_mode": {
    "name": "ipython",
    "version": 3
   },
   "file_extension": ".py",
   "mimetype": "text/x-python",
   "name": "python",
   "nbconvert_exporter": "python",
   "pygments_lexer": "ipython3",
   "version": "3.7.3"
  }
 },
 "nbformat": 4,
 "nbformat_minor": 2
}
