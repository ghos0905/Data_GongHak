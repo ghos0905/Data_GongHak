{
 "cells": [
  {
   "cell_type": "code",
   "execution_count": 2,
   "metadata": {},
   "outputs": [],
   "source": [
    "#라이브러리 호출\n",
    "import numpy as np\n",
    "import pandas as pd\n",
    "import seaborn as sns\n",
    "import matplotlib.pyplot as plt\n",
    "from sklearn.ensemble import RandomForestRegressor\n",
    "from sklearn.metrics import mean_squared_error"
   ]
  },
  {
   "cell_type": "code",
   "execution_count": 3,
   "metadata": {},
   "outputs": [],
   "source": [
    "#원본 데이터 호출 (깃허브에 저장된 데이터 파일 호출)\n",
    "df1 = pd.read_csv('https://github.com/lhmlhm1111/Data_GongHak/raw/master/11-22totaldata.txt',encoding='utf-8',sep=',')\n"
   ]
  },
  {
   "cell_type": "code",
   "execution_count": 10,
   "metadata": {},
   "outputs": [
    {
     "name": "stderr",
     "output_type": "stream",
     "text": [
      "C:\\Users\\Hosik\\Anaconda3\\lib\\site-packages\\ipykernel_launcher.py:3: UserWarning: Pandas doesn't allow columns to be created via a new attribute name - see https://pandas.pydata.org/pandas-docs/stable/indexing.html#attribute-access\n",
      "  This is separate from the ipykernel package so we can avoid doing imports until\n",
      "C:\\Users\\Hosik\\Anaconda3\\lib\\site-packages\\ipykernel_launcher.py:4: UserWarning: Pandas doesn't allow columns to be created via a new attribute name - see https://pandas.pydata.org/pandas-docs/stable/indexing.html#attribute-access\n",
      "  after removing the cwd from sys.path.\n"
     ]
    }
   ],
   "source": [
    "#학습 데이터 생성\n",
    "train1 = df1.drop(df1.index[:250],axis=0)\n",
    "train1.x = train1.drop(['year','읍면동명','자치구','새누리당','더불어민주당','국민의당','선거인수','유년부양비','노년부양비','종사자수','사업체 창업률','기초수급자인원수','보육시설','금융기관','사업체 평균연령','인구','면적'],axis=1)\n",
    "train1.y = train1['새누리당']"
   ]
  },
  {
   "cell_type": "code",
   "execution_count": 11,
   "metadata": {},
   "outputs": [
    {
     "name": "stderr",
     "output_type": "stream",
     "text": [
      "C:\\Users\\Hosik\\Anaconda3\\lib\\site-packages\\ipykernel_launcher.py:3: UserWarning: Pandas doesn't allow columns to be created via a new attribute name - see https://pandas.pydata.org/pandas-docs/stable/indexing.html#attribute-access\n",
      "  This is separate from the ipykernel package so we can avoid doing imports until\n",
      "C:\\Users\\Hosik\\Anaconda3\\lib\\site-packages\\ipykernel_launcher.py:4: UserWarning: Pandas doesn't allow columns to be created via a new attribute name - see https://pandas.pydata.org/pandas-docs/stable/indexing.html#attribute-access\n",
      "  after removing the cwd from sys.path.\n"
     ]
    }
   ],
   "source": [
    "#테스트 데이터 생성\n",
    "test1 = df1.drop(df1.index[250:],axis=0)\n",
    "test1.x = test1.drop(['year','읍면동명','자치구','새누리당','더불어민주당','국민의당','선거인수','유년부양비','노년부양비','종사자수','사업체 창업률','기초수급자인원수','보육시설','금융기관','사업체 평균연령','인구','면적'],axis=1)\n",
    "test1.y = test1['새누리당']"
   ]
  },
  {
   "cell_type": "code",
   "execution_count": 12,
   "metadata": {},
   "outputs": [
    {
     "name": "stdout",
     "output_type": "stream",
     "text": [
      "[ 2005.6  3025.8  2957.2  2319.8  6467.5  8666.3  3689.  10666.6  4872.\n",
      "  8690.2  7393.1  8654.5  6106.   5657.2  8420.4  3025.2  6784.4  7240.2\n",
      "  8742.1  3416.1  4456.6  5235.9  8546.5  6711.9  2761.1  3920.   3758.4\n",
      "  4282.2  1540.4  6680.7  3252.3  4817.8  7274.1  4491.2  5311.8  4673.9\n",
      "  3790.1  2054.2  4016.6  2264.   3840.9  2413.   3917.9  2866.9  3285.3\n",
      "  1685.3  3246.2  3515.5  3155.6  2161.2  4708.6  1925.6  6572.9  4275.7\n",
      "  6041.9  3269.6  3313.7  3617.6  7887.   6434.4  8008.5  3464.2  3390.9\n",
      "  6058.9  3835.8  4351.2  4523.5  2913.2  4274.2  3690.3  4683.5  7549.6\n",
      "  5247.3  5416.   3389.   7029.6  5969.9  1467.8  4218.2  2120.8  2660.2\n",
      "  2504.3  3342.7  2446.3  1882.4  2934.   4474.6  4685.3  3140.   2526.6\n",
      "  1585.6  3244.6  3159.2  2964.9  2845.6  3869.4  3691.4  5459.5  2238.4\n",
      "  4076.4  8357.9  3884.   2938.7  4297.1  3471.1  4297.5  4437.1  2571.\n",
      "  1947.8  5536.8  5573.9  6585.   5050.   4030.6  3962.8  8375.6  6139.7\n",
      "  6247.7  6169.2  5691.6  5148.4  3457.3  4264.2  2297.8  3451.1  5898.6\n",
      "  3692.1  3377.   3212.4  6433.3  4058.6  2428.7  4234.3  2576.9  4095.\n",
      "  3121.7  6525.5  7375.8  6360.7  7010.7  3238.   2328.3  4463.4  4343.7\n",
      "  3247.3  2956.3  5672.5  3732.5  5823.3  4729.8  3093.   4729.2  6600.8\n",
      "  2775.4  2558.4  3866.   3858.9  3160.6  4559.5  3479.6  2794.   2717.7\n",
      "  2528.9  1858.   4232.4  4398.9  3962.9  4780.5  5420.3  5916.4  2192.3\n",
      "  2254.7  3389.6  3721.1  4120.9  5030.5  3926.6  3830.9  4835.1  6421.\n",
      "  6486.3  3747.5  1772.   4073.   4708.3  4147.6  6903.2  2882.8  3639.9\n",
      "  6347.5  3253.1  3110.8  3987.3  3361.7  1941.4  2324.7  5278.1  2701.1\n",
      "  2791.1  3814.9  1935.7  1972.5  3890.6  2575.   3273.4  3222.1  3220.9\n",
      "  4004.   1981.9  2234.1  6204.   6166.7  2234.2  2837.7  2208.7  3098.9\n",
      "  5828.6  3591.7  3004.1  2817.7  3067.1  3933.4  3950.9  3259.5  3989.\n",
      "  5907.2  7821.7  3156.7  9084.6  4894.   5537.1  5468.5  4413.7  2475.4\n",
      "  5239.9  5444.1  5015.4  3802.8  7820.8  3796.5  2646.2  8322.7  6160.\n",
      "  5165.7  2427.1  3043.7  1707.   4947.3  1862.5  1727.4]\n"
     ]
    },
    {
     "name": "stderr",
     "output_type": "stream",
     "text": [
      "C:\\Users\\Hosik\\Anaconda3\\lib\\site-packages\\sklearn\\ensemble\\forest.py:246: FutureWarning: The default value of n_estimators will change from 10 in version 0.20 to 100 in 0.22.\n",
      "  \"10 in version 0.20 to 100 in 0.22.\", FutureWarning)\n"
     ]
    }
   ],
   "source": [
    "## 랜덤포레스트 회귀 모델 생성&적용\n",
    "rf1 = RandomForestRegressor()\n",
    "\n",
    "rf1.fit(train1.x,train1.y)\n",
    "\n",
    "predicted = rf1.predict(test1.x)\n",
    "\n",
    "print(predicted)"
   ]
  },
  {
   "cell_type": "code",
   "execution_count": 13,
   "metadata": {},
   "outputs": [
    {
     "data": {
      "text/plain": [
       "1775.2872136252884"
      ]
     },
     "execution_count": 13,
     "metadata": {},
     "output_type": "execute_result"
    }
   ],
   "source": [
    "#테스트 예측값들의 편차\n",
    "predicted.std()"
   ]
  },
  {
   "cell_type": "code",
   "execution_count": 14,
   "metadata": {},
   "outputs": [
    {
     "data": {
      "text/plain": [
       "1617.7335781020543"
      ]
     },
     "execution_count": 14,
     "metadata": {},
     "output_type": "execute_result"
    }
   ],
   "source": [
    "#데이터 실제값들의 편차\n",
    "test1.y.std()"
   ]
  },
  {
   "cell_type": "code",
   "execution_count": 15,
   "metadata": {},
   "outputs": [
    {
     "data": {
      "text/plain": [
       "1437.091927637199"
      ]
     },
     "execution_count": 15,
     "metadata": {},
     "output_type": "execute_result"
    }
   ],
   "source": [
    "#데이터 실제값과 예측값 사이 편차\n",
    "np.sqrt(mean_squared_error(test1.y,predicted))"
   ]
  },
  {
   "cell_type": "code",
   "execution_count": 88,
   "metadata": {},
   "outputs": [
    {
     "data": {
      "text/plain": [
       "0       4774.0\n",
       "1       3752.0\n",
       "2       3966.0\n",
       "3       4639.0\n",
       "4       8301.0\n",
       "5       7366.0\n",
       "6       5285.0\n",
       "7       6988.0\n",
       "8       3792.0\n",
       "9       6262.0\n",
       "10      6362.0\n",
       "11     10404.0\n",
       "12      3467.0\n",
       "13      5405.0\n",
       "14      9715.0\n",
       "15      5341.0\n",
       "16      5321.0\n",
       "17      3656.0\n",
       "18      5411.0\n",
       "19      3527.0\n",
       "20      3824.0\n",
       "21      4040.0\n",
       "22      7100.0\n",
       "23      5462.0\n",
       "24      4424.0\n",
       "25      5328.0\n",
       "26      4576.0\n",
       "27      3186.0\n",
       "28      1775.0\n",
       "29      6142.0\n",
       "        ...   \n",
       "220     5068.0\n",
       "221     5412.0\n",
       "222     2632.0\n",
       "223     4879.0\n",
       "224     4075.0\n",
       "225     5843.0\n",
       "226     8373.0\n",
       "227     3638.0\n",
       "228     6433.0\n",
       "229     5606.0\n",
       "230     5610.0\n",
       "231     5104.0\n",
       "232     5566.0\n",
       "233     4028.0\n",
       "234     6077.0\n",
       "235     4758.0\n",
       "236     4924.0\n",
       "237     6998.0\n",
       "238     7134.0\n",
       "239     5809.0\n",
       "240     5774.0\n",
       "241     8392.0\n",
       "242     3820.0\n",
       "243     3643.0\n",
       "244     3258.0\n",
       "245     4800.0\n",
       "246     2531.0\n",
       "247     4402.0\n",
       "248     2531.0\n",
       "249     2492.0\n",
       "Name: 새누리당, Length: 250, dtype: float64"
      ]
     },
     "execution_count": 88,
     "metadata": {},
     "output_type": "execute_result"
    }
   ],
   "source": [
    "#테스트한 새누리당 값들 (비교,확인용)\n",
    "test1.y"
   ]
  }
 ],
 "metadata": {
  "kernelspec": {
   "display_name": "Python 3",
   "language": "python",
   "name": "python3"
  },
  "language_info": {
   "codemirror_mode": {
    "name": "ipython",
    "version": 3
   },
   "file_extension": ".py",
   "mimetype": "text/x-python",
   "name": "python",
   "nbconvert_exporter": "python",
   "pygments_lexer": "ipython3",
   "version": "3.7.3"
  }
 },
 "nbformat": 4,
 "nbformat_minor": 2
}
