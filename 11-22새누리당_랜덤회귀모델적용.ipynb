{
 "cells": [
  {
   "cell_type": "code",
   "execution_count": 80,
   "metadata": {},
   "outputs": [],
   "source": [
    "#라이브러리 호출\n",
    "import numpy as np\n",
    "import pandas as pd\n",
    "import seaborn as sns\n",
    "import matplotlib.pyplot as plt\n",
    "from sklearn.ensemble import RandomForestRegressor\n",
    "from sklearn.metrics import mean_squared_error"
   ]
  },
  {
   "cell_type": "code",
   "execution_count": 81,
   "metadata": {},
   "outputs": [],
   "source": [
    "#원본 데이터 호출 (깃허브에 저장된 데이터 파일 호출)\n",
    "df1 = pd.read_csv('https://github.com/lhmlhm1111/Data_GongHak/raw/master/11-22totaldata.txt',encoding='utf-8',sep=',')\n"
   ]
  },
  {
   "cell_type": "code",
   "execution_count": 82,
   "metadata": {},
   "outputs": [
    {
     "name": "stderr",
     "output_type": "stream",
     "text": [
      "C:\\Users\\Hosik\\Anaconda3\\lib\\site-packages\\ipykernel_launcher.py:3: UserWarning: Pandas doesn't allow columns to be created via a new attribute name - see https://pandas.pydata.org/pandas-docs/stable/indexing.html#attribute-access\n",
      "  This is separate from the ipykernel package so we can avoid doing imports until\n",
      "C:\\Users\\Hosik\\Anaconda3\\lib\\site-packages\\ipykernel_launcher.py:4: UserWarning: Pandas doesn't allow columns to be created via a new attribute name - see https://pandas.pydata.org/pandas-docs/stable/indexing.html#attribute-access\n",
      "  after removing the cwd from sys.path.\n"
     ]
    }
   ],
   "source": [
    "#학습 데이터 생성\n",
    "train1 = df1.drop(df1.index[:250],axis=0)\n",
    "train1.x = train1.drop(['year','읍면동명','자치구','새누리당','더불어민주당','국민의당'],axis=1)\n",
    "train1.y = train1['새누리당']"
   ]
  },
  {
   "cell_type": "code",
   "execution_count": 83,
   "metadata": {},
   "outputs": [
    {
     "name": "stderr",
     "output_type": "stream",
     "text": [
      "C:\\Users\\Hosik\\Anaconda3\\lib\\site-packages\\ipykernel_launcher.py:3: UserWarning: Pandas doesn't allow columns to be created via a new attribute name - see https://pandas.pydata.org/pandas-docs/stable/indexing.html#attribute-access\n",
      "  This is separate from the ipykernel package so we can avoid doing imports until\n",
      "C:\\Users\\Hosik\\Anaconda3\\lib\\site-packages\\ipykernel_launcher.py:4: UserWarning: Pandas doesn't allow columns to be created via a new attribute name - see https://pandas.pydata.org/pandas-docs/stable/indexing.html#attribute-access\n",
      "  after removing the cwd from sys.path.\n"
     ]
    }
   ],
   "source": [
    "#테스트 데이터 생성\n",
    "test1 = df1.drop(df1.index[250:],axis=0)\n",
    "test1.x = test1.drop(['year','읍면동명','자치구','새누리당','더불어민주당','국민의당'],axis=1)\n",
    "test1.y = test1['새누리당']"
   ]
  },
  {
   "cell_type": "code",
   "execution_count": 84,
   "metadata": {},
   "outputs": [
    {
     "name": "stdout",
     "output_type": "stream",
     "text": [
      "[ 5232.7  3684.8  4176.2  3997.6  8134.5  7923.6  7719.   7129.3  3736.\n",
      "  7195.2  6780.7 11148.4  3690.   6042.   8800.2  3741.5  5052.5  3931.6\n",
      "  6270.1  3253.   3360.8  3542.1  6027.1  5254.1  2720.9  4988.5  4723.1\n",
      "  3845.5  1648.7  6264.6  3822.9  4523.2  8741.8  4037.   5695.7  4008.7\n",
      "  4185.5  3947.8  4657.   1505.2  4742.3  3068.6  3169.6  3076.1  3529.8\n",
      "  3601.7  4341.2  4824.6  2103.2  3380.9  3300.6  3229.1  4348.5  3506.2\n",
      "  6989.6  3027.2  3890.4  4511.   9152.1  8502.4  8611.5  4070.2  4073.5\n",
      "  6665.4  4057.7  4842.6  3175.7  1707.1  4353.1  3666.6  4522.8  7525.6\n",
      "  5027.   5993.7  4470.3  5416.5  4446.6  1873.7  2163.3  1821.   4442.\n",
      "  1666.   5395.3  1879.   2696.9  2597.9  5864.5  3067.7  2827.3  3574.\n",
      "  3280.7  2303.6  3233.2  3631.2  2671.8  4155.6  3167.   5504.2  2183.9\n",
      "  5207.   7952.7  3416.9  4073.4  4765.5  4100.7  5464.1  5674.8  4615.6\n",
      "  3925.7  5048.3  5589.7  6209.   4546.9  4138.2  3996.8  7653.   5429.8\n",
      "  6969.3  4262.7  3835.5  5211.6  4094.8  4570.9  2178.1  3504.3  6022.3\n",
      "  3779.5  3884.9  2996.   6424.8  4066.7  2310.7  3709.2  3890.2  4403.8\n",
      "  3147.3  5387.1  8096.7  9299.8  6925.9  4017.   3413.8  2345.5  3589.3\n",
      "  3847.9  2433.6  4795.8  4096.9  4703.6  4324.6  6644.1  3292.7  6757.7\n",
      "  4261.4  1811.9  4706.3  4349.2  2558.5  4196.1  3321.3  3194.9  3561.1\n",
      "  3243.7  4037.5  5771.4  4388.9  2960.   4047.6  5509.2  4484.7  2251.1\n",
      "  2553.8  5252.3  4342.6  4271.3  5187.2  4316.   4711.8  4473.   7231.\n",
      "  6344.8  6009.3  1782.8  4002.8  4144.2  4608.9  7357.   4527.1  4160.5\n",
      "  9413.6  5403.9  4348.5  6833.7  4447.2  2540.3  1924.3  4755.6  4994.8\n",
      "  4169.7  4589.8  2496.5  2479.   4372.1  5197.5  5364.5  3404.6  3960.9\n",
      "  3766.8  2809.1  3724.6  7139.5  5805.6  3202.9  4077.9  2315.7  3004.3\n",
      "  6421.9  4416.4  3184.2  3285.8  4425.8  5338.3  2939.9  4218.   3920.4\n",
      "  4710.8  7949.2  3216.2  6672.1  6068.3  5688.6  5172.5  5219.2  3216.8\n",
      "  6419.2  4494.7  4914.6  5791.   7780.7  5073.3  5036.5  9524.6  4775.2\n",
      "  3419.4  2166.4  4779.3  2185.7  3552.7  2246.   2509. ]\n"
     ]
    },
    {
     "name": "stderr",
     "output_type": "stream",
     "text": [
      "C:\\Users\\Hosik\\Anaconda3\\lib\\site-packages\\sklearn\\ensemble\\forest.py:246: FutureWarning: The default value of n_estimators will change from 10 in version 0.20 to 100 in 0.22.\n",
      "  \"10 in version 0.20 to 100 in 0.22.\", FutureWarning)\n"
     ]
    }
   ],
   "source": [
    "## 랜덤포레스트 회귀 모델 생성&적용\n",
    "rf1 = RandomForestRegressor()\n",
    "\n",
    "rf1.fit(train1.x,train1.y)\n",
    "\n",
    "predicted = rf1.predict(test1.x)\n",
    "\n",
    "print(predicted)"
   ]
  },
  {
   "cell_type": "code",
   "execution_count": 85,
   "metadata": {},
   "outputs": [
    {
     "data": {
      "text/plain": [
       "1699.148179631853"
      ]
     },
     "execution_count": 85,
     "metadata": {},
     "output_type": "execute_result"
    }
   ],
   "source": [
    "#테스트 예측값들의 편차\n",
    "predicted.std()"
   ]
  },
  {
   "cell_type": "code",
   "execution_count": 86,
   "metadata": {},
   "outputs": [
    {
     "data": {
      "text/plain": [
       "1617.7335781020543"
      ]
     },
     "execution_count": 86,
     "metadata": {},
     "output_type": "execute_result"
    }
   ],
   "source": [
    "#테스트 실제값들의 편차\n",
    "test1.y.std()"
   ]
  },
  {
   "cell_type": "code",
   "execution_count": 87,
   "metadata": {},
   "outputs": [
    {
     "data": {
      "text/plain": [
       "1053.6628098210547"
      ]
     },
     "execution_count": 87,
     "metadata": {},
     "output_type": "execute_result"
    }
   ],
   "source": [
    "#테스트 실제값과 예측값 사이 편차\n",
    "np.sqrt(mean_squared_error(test1.y,predicted))"
   ]
  },
  {
   "cell_type": "code",
   "execution_count": 88,
   "metadata": {},
   "outputs": [
    {
     "data": {
      "text/plain": [
       "0       4774.0\n",
       "1       3752.0\n",
       "2       3966.0\n",
       "3       4639.0\n",
       "4       8301.0\n",
       "5       7366.0\n",
       "6       5285.0\n",
       "7       6988.0\n",
       "8       3792.0\n",
       "9       6262.0\n",
       "10      6362.0\n",
       "11     10404.0\n",
       "12      3467.0\n",
       "13      5405.0\n",
       "14      9715.0\n",
       "15      5341.0\n",
       "16      5321.0\n",
       "17      3656.0\n",
       "18      5411.0\n",
       "19      3527.0\n",
       "20      3824.0\n",
       "21      4040.0\n",
       "22      7100.0\n",
       "23      5462.0\n",
       "24      4424.0\n",
       "25      5328.0\n",
       "26      4576.0\n",
       "27      3186.0\n",
       "28      1775.0\n",
       "29      6142.0\n",
       "        ...   \n",
       "220     5068.0\n",
       "221     5412.0\n",
       "222     2632.0\n",
       "223     4879.0\n",
       "224     4075.0\n",
       "225     5843.0\n",
       "226     8373.0\n",
       "227     3638.0\n",
       "228     6433.0\n",
       "229     5606.0\n",
       "230     5610.0\n",
       "231     5104.0\n",
       "232     5566.0\n",
       "233     4028.0\n",
       "234     6077.0\n",
       "235     4758.0\n",
       "236     4924.0\n",
       "237     6998.0\n",
       "238     7134.0\n",
       "239     5809.0\n",
       "240     5774.0\n",
       "241     8392.0\n",
       "242     3820.0\n",
       "243     3643.0\n",
       "244     3258.0\n",
       "245     4800.0\n",
       "246     2531.0\n",
       "247     4402.0\n",
       "248     2531.0\n",
       "249     2492.0\n",
       "Name: 새누리당, Length: 250, dtype: float64"
      ]
     },
     "execution_count": 88,
     "metadata": {},
     "output_type": "execute_result"
    }
   ],
   "source": [
    "#테스트한 새누리당 값들 (비교,확인용)\n",
    "test1.y"
   ]
  }
 ],
 "metadata": {
  "kernelspec": {
   "display_name": "Python 3",
   "language": "python",
   "name": "python3"
  },
  "language_info": {
   "codemirror_mode": {
    "name": "ipython",
    "version": 3
   },
   "file_extension": ".py",
   "mimetype": "text/x-python",
   "name": "python",
   "nbconvert_exporter": "python",
   "pygments_lexer": "ipython3",
   "version": "3.7.3"
  }
 },
 "nbformat": 4,
 "nbformat_minor": 2
}
