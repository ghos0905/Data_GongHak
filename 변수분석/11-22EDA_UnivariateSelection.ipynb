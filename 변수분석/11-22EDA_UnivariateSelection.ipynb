{
 "cells": [
  {
   "cell_type": "code",
   "execution_count": 13,
   "metadata": {},
   "outputs": [],
   "source": [
    "import numpy as np\n",
    "import pandas as pd\n",
    "\n",
    "from sklearn.feature_selection import SelectKBest\n",
    "from sklearn.feature_selection import chi2"
   ]
  },
  {
   "cell_type": "code",
   "execution_count": 11,
   "metadata": {},
   "outputs": [],
   "source": [
    "#가공할 데이터 호출\n",
    "data = pd.read_csv('https://github.com/lhmlhm1111/Data_GongHak/raw/master/11-22totaldata.txt',encoding='UTF-8',sep=',')"
   ]
  },
  {
   "cell_type": "code",
   "execution_count": 14,
   "metadata": {},
   "outputs": [],
   "source": [
    "#데이터 가공 : 변수 선별 (x 종속, y 독립 변수 나누기)\n",
    "df1_x = data.drop(['year','읍면동명','자치구','선거인수','인구','새누리당','더불어민주당','국민의당'],axis=1)\n",
    "df1_y = data['새누리당']"
   ]
  },
  {
   "cell_type": "code",
   "execution_count": 15,
   "metadata": {},
   "outputs": [
    {
     "name": "stdout",
     "output_type": "stream",
     "text": [
      "          Specs         Score\n",
      "14       소득(동별)  7.624390e+08\n",
      "5          종사자수  2.147844e+07\n",
      "13         인구밀도  5.167857e+06\n",
      "4          사업체수  1.424946e+06\n",
      "7      기초수급자인원수  3.807590e+05\n",
      "11  장애등급별 장애인현황  1.907359e+05\n",
      "8          보육시설  1.240601e+05\n",
      "0         독거노인수  1.234908e+05\n",
      "3         노령화지수  1.884170e+04\n",
      "9          금융기관  9.575374e+03\n"
     ]
    }
   ],
   "source": [
    "#Univariate Selection 테스트 (사이킷런의 SelectKBest 이용, 카이제곱: 변수간 연관성 측도)\n",
    "bestfeatures = SelectKBest(score_func=chi2, k=10)\n",
    "fit = bestfeatures.fit(df1_x,df1_y)\n",
    "dfscores = pd.DataFrame(fit.scores_)\n",
    "dfcolumns = pd.DataFrame(df1_x.columns)\n",
    "\n",
    "featureScores = pd.concat([dfcolumns,dfscores],axis=1)\n",
    "featureScores.columns = ['Specs','Score']\n",
    "print(featureScores.nlargest(10,'Score'))"
   ]
  },
  {
   "cell_type": "code",
   "execution_count": null,
   "metadata": {},
   "outputs": [],
   "source": []
  }
 ],
 "metadata": {
  "kernelspec": {
   "display_name": "Python 3",
   "language": "python",
   "name": "python3"
  },
  "language_info": {
   "codemirror_mode": {
    "name": "ipython",
    "version": 3
   },
   "file_extension": ".py",
   "mimetype": "text/x-python",
   "name": "python",
   "nbconvert_exporter": "python",
   "pygments_lexer": "ipython3",
   "version": "3.7.3"
  }
 },
 "nbformat": 4,
 "nbformat_minor": 2
}
